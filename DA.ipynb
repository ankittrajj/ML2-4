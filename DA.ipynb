{
 "cells": [
  {
   "cell_type": "code",
   "execution_count": 2,
   "id": "14deb2ba",
   "metadata": {},
   "outputs": [],
   "source": [
    "#numpy----->Array create\n",
    "#pandas---->data analysis\n",
    "#matplotlib----> plotting lib\n",
    "#seaborn------>data viz.\n",
    "\n",
    "# numpy\n",
    "import numpy as np"
   ]
  },
  {
   "cell_type": "code",
   "execution_count": 17,
   "id": "6786d3bd",
   "metadata": {},
   "outputs": [],
   "source": [
    "#arrays\n",
    "arr = np.array([[[23,34,56,78,90]]])"
   ]
  },
  {
   "cell_type": "code",
   "execution_count": 18,
   "id": "d75463a1",
   "metadata": {},
   "outputs": [
    {
     "data": {
      "text/plain": [
       "array([[[23, 34, 56, 78, 90]]])"
      ]
     },
     "execution_count": 18,
     "metadata": {},
     "output_type": "execute_result"
    }
   ],
   "source": [
    "arr"
   ]
  },
  {
   "cell_type": "code",
   "execution_count": 19,
   "id": "043a9192",
   "metadata": {},
   "outputs": [
    {
     "data": {
      "text/plain": [
       "numpy.ndarray"
      ]
     },
     "execution_count": 19,
     "metadata": {},
     "output_type": "execute_result"
    }
   ],
   "source": [
    "type(arr)"
   ]
  },
  {
   "cell_type": "code",
   "execution_count": 20,
   "id": "05dcb3c6",
   "metadata": {},
   "outputs": [
    {
     "data": {
      "text/plain": [
       "3"
      ]
     },
     "execution_count": 20,
     "metadata": {},
     "output_type": "execute_result"
    }
   ],
   "source": [
    "arr.ndim"
   ]
  },
  {
   "cell_type": "code",
   "execution_count": 27,
   "id": "982909a2",
   "metadata": {},
   "outputs": [],
   "source": [
    "arr = np.array([[[2,3,4],[5,6,7],[4,5,6]]])"
   ]
  },
  {
   "cell_type": "code",
   "execution_count": 28,
   "id": "ef1a4971",
   "metadata": {},
   "outputs": [
    {
     "data": {
      "text/plain": [
       "array([[[2, 3, 4],\n",
       "        [5, 6, 7],\n",
       "        [4, 5, 6]]])"
      ]
     },
     "execution_count": 28,
     "metadata": {},
     "output_type": "execute_result"
    }
   ],
   "source": [
    "arr"
   ]
  },
  {
   "cell_type": "code",
   "execution_count": 29,
   "id": "72ba7381",
   "metadata": {},
   "outputs": [
    {
     "data": {
      "text/plain": [
       "3"
      ]
     },
     "execution_count": 29,
     "metadata": {},
     "output_type": "execute_result"
    }
   ],
   "source": [
    "arr.ndim"
   ]
  },
  {
   "cell_type": "code",
   "execution_count": 31,
   "id": "c826a840",
   "metadata": {},
   "outputs": [
    {
     "name": "stdout",
     "output_type": "stream",
     "text": [
      "[[ 4  6  8]\n",
      " [10 12 14]\n",
      " [ 8 10 12]]\n"
     ]
    },
    {
     "data": {
      "text/plain": [
       "array([[ 4,  9, 16],\n",
       "       [25, 36, 49],\n",
       "       [16, 25, 36]])"
      ]
     },
     "execution_count": 31,
     "metadata": {},
     "output_type": "execute_result"
    }
   ],
   "source": [
    "#wap to make two arrays and perform add & multiply on it.\n",
    "arr1=np.array([[2,3,4],[5,6,7],[4,5,6]])\n",
    "arr2=np.array([[2,3,4],[5,6,7],[4,5,6]])\n",
    "print(arr1+arr2)\n",
    "arr1*arr2"
   ]
  },
  {
   "cell_type": "code",
   "execution_count": 32,
   "id": "d04b25c1",
   "metadata": {},
   "outputs": [
    {
     "data": {
      "text/plain": [
       "array([[2, 3, 4],\n",
       "       [5, 6, 7],\n",
       "       [4, 9, 0]])"
      ]
     },
     "execution_count": 32,
     "metadata": {},
     "output_type": "execute_result"
    }
   ],
   "source": [
    "a = np.array([[2,3,4],[5,6,7],[4,9,0]])\n",
    "a"
   ]
  },
  {
   "cell_type": "code",
   "execution_count": 33,
   "id": "93e20917",
   "metadata": {},
   "outputs": [
    {
     "data": {
      "text/plain": [
       "array([[2, 5, 4],\n",
       "       [3, 6, 9],\n",
       "       [4, 7, 0]])"
      ]
     },
     "execution_count": 33,
     "metadata": {},
     "output_type": "execute_result"
    }
   ],
   "source": [
    "#transpose\n",
    "a.T"
   ]
  },
  {
   "cell_type": "code",
   "execution_count": 34,
   "id": "ca9b3080",
   "metadata": {},
   "outputs": [
    {
     "data": {
      "text/plain": [
       "array([[2, 3, 4],\n",
       "       [5, 6, 7],\n",
       "       [4, 9, 0]])"
      ]
     },
     "execution_count": 34,
     "metadata": {},
     "output_type": "execute_result"
    }
   ],
   "source": [
    "a"
   ]
  },
  {
   "cell_type": "code",
   "execution_count": 35,
   "id": "0e3ca61f",
   "metadata": {},
   "outputs": [
    {
     "data": {
      "text/plain": [
       "array([11, 18, 11])"
      ]
     },
     "execution_count": 35,
     "metadata": {},
     "output_type": "execute_result"
    }
   ],
   "source": [
    "a.sum(axis=0)"
   ]
  },
  {
   "cell_type": "code",
   "execution_count": 36,
   "id": "65f38945",
   "metadata": {},
   "outputs": [
    {
     "data": {
      "text/plain": [
       "array([ 9, 18, 13])"
      ]
     },
     "execution_count": 36,
     "metadata": {},
     "output_type": "execute_result"
    }
   ],
   "source": [
    "a.sum(axis=1)"
   ]
  },
  {
   "cell_type": "code",
   "execution_count": 37,
   "id": "f0e4fb07",
   "metadata": {},
   "outputs": [],
   "source": [
    "#pandas\n",
    "import pandas as pd\n",
    "\n"
   ]
  },
  {
   "cell_type": "code",
   "execution_count": 40,
   "id": "be5317c4",
   "metadata": {},
   "outputs": [],
   "source": [
    "df=pd.DataFrame({'name':['A','B','C'],'age':[23,34,56],'marks':[23,89,99]})"
   ]
  },
  {
   "cell_type": "code",
   "execution_count": 41,
   "id": "c3bd1f8c",
   "metadata": {},
   "outputs": [
    {
     "data": {
      "text/html": [
       "<div>\n",
       "<style scoped>\n",
       "    .dataframe tbody tr th:only-of-type {\n",
       "        vertical-align: middle;\n",
       "    }\n",
       "\n",
       "    .dataframe tbody tr th {\n",
       "        vertical-align: top;\n",
       "    }\n",
       "\n",
       "    .dataframe thead th {\n",
       "        text-align: right;\n",
       "    }\n",
       "</style>\n",
       "<table border=\"1\" class=\"dataframe\">\n",
       "  <thead>\n",
       "    <tr style=\"text-align: right;\">\n",
       "      <th></th>\n",
       "      <th>name</th>\n",
       "      <th>age</th>\n",
       "      <th>marks</th>\n",
       "    </tr>\n",
       "  </thead>\n",
       "  <tbody>\n",
       "    <tr>\n",
       "      <th>0</th>\n",
       "      <td>A</td>\n",
       "      <td>23</td>\n",
       "      <td>23</td>\n",
       "    </tr>\n",
       "    <tr>\n",
       "      <th>1</th>\n",
       "      <td>B</td>\n",
       "      <td>34</td>\n",
       "      <td>89</td>\n",
       "    </tr>\n",
       "    <tr>\n",
       "      <th>2</th>\n",
       "      <td>C</td>\n",
       "      <td>56</td>\n",
       "      <td>99</td>\n",
       "    </tr>\n",
       "  </tbody>\n",
       "</table>\n",
       "</div>"
      ],
      "text/plain": [
       "  name  age  marks\n",
       "0    A   23     23\n",
       "1    B   34     89\n",
       "2    C   56     99"
      ]
     },
     "execution_count": 41,
     "metadata": {},
     "output_type": "execute_result"
    }
   ],
   "source": [
    "df"
   ]
  },
  {
   "cell_type": "code",
   "execution_count": 42,
   "id": "7ce9a0a8",
   "metadata": {},
   "outputs": [
    {
     "data": {
      "text/html": [
       "<div>\n",
       "<style scoped>\n",
       "    .dataframe tbody tr th:only-of-type {\n",
       "        vertical-align: middle;\n",
       "    }\n",
       "\n",
       "    .dataframe tbody tr th {\n",
       "        vertical-align: top;\n",
       "    }\n",
       "\n",
       "    .dataframe thead th {\n",
       "        text-align: right;\n",
       "    }\n",
       "</style>\n",
       "<table border=\"1\" class=\"dataframe\">\n",
       "  <thead>\n",
       "    <tr style=\"text-align: right;\">\n",
       "      <th></th>\n",
       "      <th>name</th>\n",
       "      <th>age</th>\n",
       "      <th>marks</th>\n",
       "    </tr>\n",
       "  </thead>\n",
       "  <tbody>\n",
       "    <tr>\n",
       "      <th>0</th>\n",
       "      <td>A</td>\n",
       "      <td>23</td>\n",
       "      <td>23</td>\n",
       "    </tr>\n",
       "    <tr>\n",
       "      <th>1</th>\n",
       "      <td>B</td>\n",
       "      <td>34</td>\n",
       "      <td>89</td>\n",
       "    </tr>\n",
       "    <tr>\n",
       "      <th>2</th>\n",
       "      <td>C</td>\n",
       "      <td>56</td>\n",
       "      <td>99</td>\n",
       "    </tr>\n",
       "  </tbody>\n",
       "</table>\n",
       "</div>"
      ],
      "text/plain": [
       "  name  age  marks\n",
       "0    A   23     23\n",
       "1    B   34     89\n",
       "2    C   56     99"
      ]
     },
     "execution_count": 42,
     "metadata": {},
     "output_type": "execute_result"
    }
   ],
   "source": [
    "#wap and make a df of sales,profit & company.\n",
    "df"
   ]
  },
  {
   "cell_type": "code",
   "execution_count": 43,
   "id": "335cf0db",
   "metadata": {},
   "outputs": [],
   "source": [
    "#data store\n",
    "x = df.to_csv('data.csv')"
   ]
  },
  {
   "cell_type": "code",
   "execution_count": 44,
   "id": "8986a247",
   "metadata": {},
   "outputs": [],
   "source": [
    "x"
   ]
  },
  {
   "cell_type": "code",
   "execution_count": 46,
   "id": "51c02aaf",
   "metadata": {},
   "outputs": [],
   "source": [
    "df=pd.read_csv(r'C:\\Users\\ddugky\\Desktop\\Bank-Customers_Data.csv')"
   ]
  },
  {
   "cell_type": "code",
   "execution_count": 47,
   "id": "316943c2",
   "metadata": {},
   "outputs": [
    {
     "data": {
      "text/html": [
       "<div>\n",
       "<style scoped>\n",
       "    .dataframe tbody tr th:only-of-type {\n",
       "        vertical-align: middle;\n",
       "    }\n",
       "\n",
       "    .dataframe tbody tr th {\n",
       "        vertical-align: top;\n",
       "    }\n",
       "\n",
       "    .dataframe thead th {\n",
       "        text-align: right;\n",
       "    }\n",
       "</style>\n",
       "<table border=\"1\" class=\"dataframe\">\n",
       "  <thead>\n",
       "    <tr style=\"text-align: right;\">\n",
       "      <th></th>\n",
       "      <th>Customer ID</th>\n",
       "      <th>Name</th>\n",
       "      <th>Surname</th>\n",
       "      <th>Gender</th>\n",
       "      <th>Age</th>\n",
       "      <th>Region</th>\n",
       "      <th>Job Classification</th>\n",
       "      <th>Date Joined</th>\n",
       "      <th>Balance</th>\n",
       "    </tr>\n",
       "  </thead>\n",
       "  <tbody>\n",
       "    <tr>\n",
       "      <th>0</th>\n",
       "      <td>100000001</td>\n",
       "      <td>Simon</td>\n",
       "      <td>Walsh</td>\n",
       "      <td>Male</td>\n",
       "      <td>21</td>\n",
       "      <td>England</td>\n",
       "      <td>White Collar</td>\n",
       "      <td>05.Jan.15</td>\n",
       "      <td>113810.15</td>\n",
       "    </tr>\n",
       "    <tr>\n",
       "      <th>1</th>\n",
       "      <td>400000002</td>\n",
       "      <td>Jasmine</td>\n",
       "      <td>Miller</td>\n",
       "      <td>Female</td>\n",
       "      <td>34</td>\n",
       "      <td>Northern Ireland</td>\n",
       "      <td>Blue Collar</td>\n",
       "      <td>06.Jan.15</td>\n",
       "      <td>36919.73</td>\n",
       "    </tr>\n",
       "    <tr>\n",
       "      <th>2</th>\n",
       "      <td>100000003</td>\n",
       "      <td>Liam</td>\n",
       "      <td>Brown</td>\n",
       "      <td>Male</td>\n",
       "      <td>46</td>\n",
       "      <td>England</td>\n",
       "      <td>White Collar</td>\n",
       "      <td>07.Jan.15</td>\n",
       "      <td>101536.83</td>\n",
       "    </tr>\n",
       "    <tr>\n",
       "      <th>3</th>\n",
       "      <td>300000004</td>\n",
       "      <td>Trevor</td>\n",
       "      <td>Parr</td>\n",
       "      <td>Male</td>\n",
       "      <td>32</td>\n",
       "      <td>Wales</td>\n",
       "      <td>White Collar</td>\n",
       "      <td>08.Jan.15</td>\n",
       "      <td>1421.52</td>\n",
       "    </tr>\n",
       "    <tr>\n",
       "      <th>4</th>\n",
       "      <td>100000005</td>\n",
       "      <td>Deirdre</td>\n",
       "      <td>Pullman</td>\n",
       "      <td>Female</td>\n",
       "      <td>38</td>\n",
       "      <td>England</td>\n",
       "      <td>Blue Collar</td>\n",
       "      <td>09.Jan.15</td>\n",
       "      <td>35639.79</td>\n",
       "    </tr>\n",
       "    <tr>\n",
       "      <th>...</th>\n",
       "      <td>...</td>\n",
       "      <td>...</td>\n",
       "      <td>...</td>\n",
       "      <td>...</td>\n",
       "      <td>...</td>\n",
       "      <td>...</td>\n",
       "      <td>...</td>\n",
       "      <td>...</td>\n",
       "      <td>...</td>\n",
       "    </tr>\n",
       "    <tr>\n",
       "      <th>4009</th>\n",
       "      <td>200004010</td>\n",
       "      <td>Sam</td>\n",
       "      <td>Lewis</td>\n",
       "      <td>Male</td>\n",
       "      <td>64</td>\n",
       "      <td>Scotland</td>\n",
       "      <td>Other</td>\n",
       "      <td>30.Dec.15</td>\n",
       "      <td>19711.66</td>\n",
       "    </tr>\n",
       "    <tr>\n",
       "      <th>4010</th>\n",
       "      <td>200004011</td>\n",
       "      <td>Keith</td>\n",
       "      <td>Hughes</td>\n",
       "      <td>Male</td>\n",
       "      <td>52</td>\n",
       "      <td>Scotland</td>\n",
       "      <td>Blue Collar</td>\n",
       "      <td>30.Dec.15</td>\n",
       "      <td>56069.72</td>\n",
       "    </tr>\n",
       "    <tr>\n",
       "      <th>4011</th>\n",
       "      <td>200004012</td>\n",
       "      <td>Hannah</td>\n",
       "      <td>Springer</td>\n",
       "      <td>Female</td>\n",
       "      <td>50</td>\n",
       "      <td>Scotland</td>\n",
       "      <td>Other</td>\n",
       "      <td>30.Dec.15</td>\n",
       "      <td>59477.82</td>\n",
       "    </tr>\n",
       "    <tr>\n",
       "      <th>4012</th>\n",
       "      <td>200004013</td>\n",
       "      <td>Christian</td>\n",
       "      <td>Reid</td>\n",
       "      <td>Male</td>\n",
       "      <td>51</td>\n",
       "      <td>Scotland</td>\n",
       "      <td>Blue Collar</td>\n",
       "      <td>30.Dec.15</td>\n",
       "      <td>239.45</td>\n",
       "    </tr>\n",
       "    <tr>\n",
       "      <th>4013</th>\n",
       "      <td>300004014</td>\n",
       "      <td>Stephen</td>\n",
       "      <td>May</td>\n",
       "      <td>Male</td>\n",
       "      <td>33</td>\n",
       "      <td>Wales</td>\n",
       "      <td>Blue Collar</td>\n",
       "      <td>30.Dec.15</td>\n",
       "      <td>30293.19</td>\n",
       "    </tr>\n",
       "  </tbody>\n",
       "</table>\n",
       "<p>4014 rows × 9 columns</p>\n",
       "</div>"
      ],
      "text/plain": [
       "      Customer ID       Name   Surname  Gender  Age            Region  \\\n",
       "0       100000001      Simon     Walsh    Male   21           England   \n",
       "1       400000002    Jasmine    Miller  Female   34  Northern Ireland   \n",
       "2       100000003       Liam     Brown    Male   46           England   \n",
       "3       300000004     Trevor      Parr    Male   32             Wales   \n",
       "4       100000005    Deirdre   Pullman  Female   38           England   \n",
       "...           ...        ...       ...     ...  ...               ...   \n",
       "4009    200004010        Sam     Lewis    Male   64          Scotland   \n",
       "4010    200004011      Keith    Hughes    Male   52          Scotland   \n",
       "4011    200004012     Hannah  Springer  Female   50          Scotland   \n",
       "4012    200004013  Christian      Reid    Male   51          Scotland   \n",
       "4013    300004014    Stephen       May    Male   33             Wales   \n",
       "\n",
       "     Job Classification Date Joined    Balance  \n",
       "0          White Collar   05.Jan.15  113810.15  \n",
       "1           Blue Collar   06.Jan.15   36919.73  \n",
       "2          White Collar   07.Jan.15  101536.83  \n",
       "3          White Collar   08.Jan.15    1421.52  \n",
       "4           Blue Collar   09.Jan.15   35639.79  \n",
       "...                 ...         ...        ...  \n",
       "4009              Other   30.Dec.15   19711.66  \n",
       "4010        Blue Collar   30.Dec.15   56069.72  \n",
       "4011              Other   30.Dec.15   59477.82  \n",
       "4012        Blue Collar   30.Dec.15     239.45  \n",
       "4013        Blue Collar   30.Dec.15   30293.19  \n",
       "\n",
       "[4014 rows x 9 columns]"
      ]
     },
     "execution_count": 47,
     "metadata": {},
     "output_type": "execute_result"
    }
   ],
   "source": [
    "df"
   ]
  },
  {
   "cell_type": "code",
   "execution_count": 54,
   "id": "73bce321",
   "metadata": {},
   "outputs": [
    {
     "data": {
      "text/html": [
       "<div>\n",
       "<style scoped>\n",
       "    .dataframe tbody tr th:only-of-type {\n",
       "        vertical-align: middle;\n",
       "    }\n",
       "\n",
       "    .dataframe tbody tr th {\n",
       "        vertical-align: top;\n",
       "    }\n",
       "\n",
       "    .dataframe thead th {\n",
       "        text-align: right;\n",
       "    }\n",
       "</style>\n",
       "<table border=\"1\" class=\"dataframe\">\n",
       "  <thead>\n",
       "    <tr style=\"text-align: right;\">\n",
       "      <th></th>\n",
       "      <th>Customer ID</th>\n",
       "      <th>Name</th>\n",
       "      <th>Surname</th>\n",
       "      <th>Gender</th>\n",
       "      <th>Age</th>\n",
       "      <th>Region</th>\n",
       "      <th>Job Classification</th>\n",
       "      <th>Date Joined</th>\n",
       "      <th>Balance</th>\n",
       "    </tr>\n",
       "  </thead>\n",
       "  <tbody>\n",
       "    <tr>\n",
       "      <th>0</th>\n",
       "      <td>100000001</td>\n",
       "      <td>Simon</td>\n",
       "      <td>Walsh</td>\n",
       "      <td>Male</td>\n",
       "      <td>21</td>\n",
       "      <td>England</td>\n",
       "      <td>White Collar</td>\n",
       "      <td>05.Jan.15</td>\n",
       "      <td>113810.15</td>\n",
       "    </tr>\n",
       "    <tr>\n",
       "      <th>1</th>\n",
       "      <td>400000002</td>\n",
       "      <td>Jasmine</td>\n",
       "      <td>Miller</td>\n",
       "      <td>Female</td>\n",
       "      <td>34</td>\n",
       "      <td>Northern Ireland</td>\n",
       "      <td>Blue Collar</td>\n",
       "      <td>06.Jan.15</td>\n",
       "      <td>36919.73</td>\n",
       "    </tr>\n",
       "    <tr>\n",
       "      <th>2</th>\n",
       "      <td>100000003</td>\n",
       "      <td>Liam</td>\n",
       "      <td>Brown</td>\n",
       "      <td>Male</td>\n",
       "      <td>46</td>\n",
       "      <td>England</td>\n",
       "      <td>White Collar</td>\n",
       "      <td>07.Jan.15</td>\n",
       "      <td>101536.83</td>\n",
       "    </tr>\n",
       "    <tr>\n",
       "      <th>3</th>\n",
       "      <td>300000004</td>\n",
       "      <td>Trevor</td>\n",
       "      <td>Parr</td>\n",
       "      <td>Male</td>\n",
       "      <td>32</td>\n",
       "      <td>Wales</td>\n",
       "      <td>White Collar</td>\n",
       "      <td>08.Jan.15</td>\n",
       "      <td>1421.52</td>\n",
       "    </tr>\n",
       "    <tr>\n",
       "      <th>4</th>\n",
       "      <td>100000005</td>\n",
       "      <td>Deirdre</td>\n",
       "      <td>Pullman</td>\n",
       "      <td>Female</td>\n",
       "      <td>38</td>\n",
       "      <td>England</td>\n",
       "      <td>Blue Collar</td>\n",
       "      <td>09.Jan.15</td>\n",
       "      <td>35639.79</td>\n",
       "    </tr>\n",
       "    <tr>\n",
       "      <th>5</th>\n",
       "      <td>300000006</td>\n",
       "      <td>Ava</td>\n",
       "      <td>Coleman</td>\n",
       "      <td>Female</td>\n",
       "      <td>30</td>\n",
       "      <td>Wales</td>\n",
       "      <td>Blue Collar</td>\n",
       "      <td>09.Jan.15</td>\n",
       "      <td>122443.77</td>\n",
       "    </tr>\n",
       "    <tr>\n",
       "      <th>6</th>\n",
       "      <td>100000007</td>\n",
       "      <td>Dorothy</td>\n",
       "      <td>Thomson</td>\n",
       "      <td>Female</td>\n",
       "      <td>34</td>\n",
       "      <td>England</td>\n",
       "      <td>Blue Collar</td>\n",
       "      <td>11.Jan.15</td>\n",
       "      <td>42879.84</td>\n",
       "    </tr>\n",
       "    <tr>\n",
       "      <th>7</th>\n",
       "      <td>200000008</td>\n",
       "      <td>Lisa</td>\n",
       "      <td>Knox</td>\n",
       "      <td>Female</td>\n",
       "      <td>48</td>\n",
       "      <td>Scotland</td>\n",
       "      <td>Other</td>\n",
       "      <td>11.Jan.15</td>\n",
       "      <td>36680.17</td>\n",
       "    </tr>\n",
       "    <tr>\n",
       "      <th>8</th>\n",
       "      <td>300000009</td>\n",
       "      <td>Ruth</td>\n",
       "      <td>Campbell</td>\n",
       "      <td>Female</td>\n",
       "      <td>33</td>\n",
       "      <td>Wales</td>\n",
       "      <td>White Collar</td>\n",
       "      <td>11.Jan.15</td>\n",
       "      <td>74284.35</td>\n",
       "    </tr>\n",
       "    <tr>\n",
       "      <th>9</th>\n",
       "      <td>100000010</td>\n",
       "      <td>Dominic</td>\n",
       "      <td>Parr</td>\n",
       "      <td>Male</td>\n",
       "      <td>42</td>\n",
       "      <td>England</td>\n",
       "      <td>White Collar</td>\n",
       "      <td>12.Jan.15</td>\n",
       "      <td>10912.45</td>\n",
       "    </tr>\n",
       "  </tbody>\n",
       "</table>\n",
       "</div>"
      ],
      "text/plain": [
       "   Customer ID     Name   Surname  Gender  Age            Region  \\\n",
       "0    100000001    Simon     Walsh    Male   21           England   \n",
       "1    400000002  Jasmine    Miller  Female   34  Northern Ireland   \n",
       "2    100000003     Liam     Brown    Male   46           England   \n",
       "3    300000004   Trevor      Parr    Male   32             Wales   \n",
       "4    100000005  Deirdre   Pullman  Female   38           England   \n",
       "5    300000006      Ava   Coleman  Female   30             Wales   \n",
       "6    100000007  Dorothy   Thomson  Female   34           England   \n",
       "7    200000008     Lisa      Knox  Female   48          Scotland   \n",
       "8    300000009     Ruth  Campbell  Female   33             Wales   \n",
       "9    100000010  Dominic      Parr    Male   42           England   \n",
       "\n",
       "  Job Classification Date Joined    Balance  \n",
       "0       White Collar   05.Jan.15  113810.15  \n",
       "1        Blue Collar   06.Jan.15   36919.73  \n",
       "2       White Collar   07.Jan.15  101536.83  \n",
       "3       White Collar   08.Jan.15    1421.52  \n",
       "4        Blue Collar   09.Jan.15   35639.79  \n",
       "5        Blue Collar   09.Jan.15  122443.77  \n",
       "6        Blue Collar   11.Jan.15   42879.84  \n",
       "7              Other   11.Jan.15   36680.17  \n",
       "8       White Collar   11.Jan.15   74284.35  \n",
       "9       White Collar   12.Jan.15   10912.45  "
      ]
     },
     "execution_count": 54,
     "metadata": {},
     "output_type": "execute_result"
    }
   ],
   "source": [
    "df.head(10)"
   ]
  },
  {
   "cell_type": "code",
   "execution_count": 55,
   "id": "ee244639",
   "metadata": {},
   "outputs": [
    {
     "data": {
      "text/html": [
       "<div>\n",
       "<style scoped>\n",
       "    .dataframe tbody tr th:only-of-type {\n",
       "        vertical-align: middle;\n",
       "    }\n",
       "\n",
       "    .dataframe tbody tr th {\n",
       "        vertical-align: top;\n",
       "    }\n",
       "\n",
       "    .dataframe thead th {\n",
       "        text-align: right;\n",
       "    }\n",
       "</style>\n",
       "<table border=\"1\" class=\"dataframe\">\n",
       "  <thead>\n",
       "    <tr style=\"text-align: right;\">\n",
       "      <th></th>\n",
       "      <th>Customer ID</th>\n",
       "      <th>Name</th>\n",
       "      <th>Surname</th>\n",
       "      <th>Gender</th>\n",
       "      <th>Age</th>\n",
       "      <th>Region</th>\n",
       "      <th>Job Classification</th>\n",
       "      <th>Date Joined</th>\n",
       "      <th>Balance</th>\n",
       "    </tr>\n",
       "  </thead>\n",
       "  <tbody>\n",
       "    <tr>\n",
       "      <th>4012</th>\n",
       "      <td>200004013</td>\n",
       "      <td>Christian</td>\n",
       "      <td>Reid</td>\n",
       "      <td>Male</td>\n",
       "      <td>51</td>\n",
       "      <td>Scotland</td>\n",
       "      <td>Blue Collar</td>\n",
       "      <td>30.Dec.15</td>\n",
       "      <td>239.45</td>\n",
       "    </tr>\n",
       "    <tr>\n",
       "      <th>4013</th>\n",
       "      <td>300004014</td>\n",
       "      <td>Stephen</td>\n",
       "      <td>May</td>\n",
       "      <td>Male</td>\n",
       "      <td>33</td>\n",
       "      <td>Wales</td>\n",
       "      <td>Blue Collar</td>\n",
       "      <td>30.Dec.15</td>\n",
       "      <td>30293.19</td>\n",
       "    </tr>\n",
       "  </tbody>\n",
       "</table>\n",
       "</div>"
      ],
      "text/plain": [
       "      Customer ID       Name Surname Gender  Age    Region Job Classification  \\\n",
       "4012    200004013  Christian    Reid   Male   51  Scotland        Blue Collar   \n",
       "4013    300004014    Stephen     May   Male   33     Wales        Blue Collar   \n",
       "\n",
       "     Date Joined   Balance  \n",
       "4012   30.Dec.15    239.45  \n",
       "4013   30.Dec.15  30293.19  "
      ]
     },
     "execution_count": 55,
     "metadata": {},
     "output_type": "execute_result"
    }
   ],
   "source": [
    "df.tail(2)"
   ]
  },
  {
   "cell_type": "code",
   "execution_count": 57,
   "id": "b773b094",
   "metadata": {},
   "outputs": [
    {
     "data": {
      "text/html": [
       "<div>\n",
       "<style scoped>\n",
       "    .dataframe tbody tr th:only-of-type {\n",
       "        vertical-align: middle;\n",
       "    }\n",
       "\n",
       "    .dataframe tbody tr th {\n",
       "        vertical-align: top;\n",
       "    }\n",
       "\n",
       "    .dataframe thead th {\n",
       "        text-align: right;\n",
       "    }\n",
       "</style>\n",
       "<table border=\"1\" class=\"dataframe\">\n",
       "  <thead>\n",
       "    <tr style=\"text-align: right;\">\n",
       "      <th></th>\n",
       "      <th>Customer ID</th>\n",
       "      <th>Name</th>\n",
       "      <th>Surname</th>\n",
       "      <th>Gender</th>\n",
       "      <th>Age</th>\n",
       "      <th>Region</th>\n",
       "      <th>Job Classification</th>\n",
       "      <th>Date Joined</th>\n",
       "      <th>Balance</th>\n",
       "    </tr>\n",
       "  </thead>\n",
       "  <tbody>\n",
       "    <tr>\n",
       "      <th>524</th>\n",
       "      <td>300000525</td>\n",
       "      <td>Luke</td>\n",
       "      <td>Mathis</td>\n",
       "      <td>Male</td>\n",
       "      <td>23</td>\n",
       "      <td>Wales</td>\n",
       "      <td>Blue Collar</td>\n",
       "      <td>16.May.15</td>\n",
       "      <td>56584.82</td>\n",
       "    </tr>\n",
       "    <tr>\n",
       "      <th>289</th>\n",
       "      <td>100000290</td>\n",
       "      <td>Joe</td>\n",
       "      <td>May</td>\n",
       "      <td>Male</td>\n",
       "      <td>40</td>\n",
       "      <td>England</td>\n",
       "      <td>White Collar</td>\n",
       "      <td>22.Apr.15</td>\n",
       "      <td>70357.61</td>\n",
       "    </tr>\n",
       "    <tr>\n",
       "      <th>1040</th>\n",
       "      <td>100001041</td>\n",
       "      <td>Connor</td>\n",
       "      <td>May</td>\n",
       "      <td>Male</td>\n",
       "      <td>41</td>\n",
       "      <td>England</td>\n",
       "      <td>White Collar</td>\n",
       "      <td>30.Jun.15</td>\n",
       "      <td>43488.59</td>\n",
       "    </tr>\n",
       "  </tbody>\n",
       "</table>\n",
       "</div>"
      ],
      "text/plain": [
       "      Customer ID    Name Surname Gender  Age   Region Job Classification  \\\n",
       "524     300000525    Luke  Mathis   Male   23    Wales        Blue Collar   \n",
       "289     100000290     Joe     May   Male   40  England       White Collar   \n",
       "1040    100001041  Connor     May   Male   41  England       White Collar   \n",
       "\n",
       "     Date Joined   Balance  \n",
       "524    16.May.15  56584.82  \n",
       "289    22.Apr.15  70357.61  \n",
       "1040   30.Jun.15  43488.59  "
      ]
     },
     "execution_count": 57,
     "metadata": {},
     "output_type": "execute_result"
    }
   ],
   "source": [
    "df.sample(3)"
   ]
  },
  {
   "cell_type": "code",
   "execution_count": 61,
   "id": "02b98440",
   "metadata": {},
   "outputs": [],
   "source": [
    "df1 = pd.read_excel(r'C:\\Users\\ddugky\\Desktop\\MarksheetData.xlsx')"
   ]
  },
  {
   "cell_type": "code",
   "execution_count": 62,
   "id": "35ee6a3b",
   "metadata": {},
   "outputs": [
    {
     "data": {
      "text/html": [
       "<div>\n",
       "<style scoped>\n",
       "    .dataframe tbody tr th:only-of-type {\n",
       "        vertical-align: middle;\n",
       "    }\n",
       "\n",
       "    .dataframe tbody tr th {\n",
       "        vertical-align: top;\n",
       "    }\n",
       "\n",
       "    .dataframe thead th {\n",
       "        text-align: right;\n",
       "    }\n",
       "</style>\n",
       "<table border=\"1\" class=\"dataframe\">\n",
       "  <thead>\n",
       "    <tr style=\"text-align: right;\">\n",
       "      <th></th>\n",
       "      <th>Marksheet</th>\n",
       "      <th>Unnamed: 1</th>\n",
       "      <th>Unnamed: 2</th>\n",
       "      <th>Unnamed: 3</th>\n",
       "      <th>Unnamed: 4</th>\n",
       "      <th>Unnamed: 5</th>\n",
       "      <th>Unnamed: 6</th>\n",
       "      <th>Unnamed: 7</th>\n",
       "      <th>Unnamed: 8</th>\n",
       "      <th>Unnamed: 9</th>\n",
       "    </tr>\n",
       "  </thead>\n",
       "  <tbody>\n",
       "    <tr>\n",
       "      <th>0</th>\n",
       "      <td>Name</td>\n",
       "      <td>Sub1</td>\n",
       "      <td>Sub2</td>\n",
       "      <td>Sub3</td>\n",
       "      <td>Total</td>\n",
       "      <td>Min</td>\n",
       "      <td>Max</td>\n",
       "      <td>Avg</td>\n",
       "      <td>Percentage</td>\n",
       "      <td>Result</td>\n",
       "    </tr>\n",
       "    <tr>\n",
       "      <th>1</th>\n",
       "      <td>A</td>\n",
       "      <td>32</td>\n",
       "      <td>19</td>\n",
       "      <td>34</td>\n",
       "      <td>85</td>\n",
       "      <td>19</td>\n",
       "      <td>34</td>\n",
       "      <td>28.333333</td>\n",
       "      <td>28.333333</td>\n",
       "      <td></td>\n",
       "    </tr>\n",
       "    <tr>\n",
       "      <th>2</th>\n",
       "      <td>B</td>\n",
       "      <td>43</td>\n",
       "      <td>75</td>\n",
       "      <td>66</td>\n",
       "      <td>184</td>\n",
       "      <td>43</td>\n",
       "      <td>75</td>\n",
       "      <td>61.333333</td>\n",
       "      <td>61.333333</td>\n",
       "      <td>NaN</td>\n",
       "    </tr>\n",
       "    <tr>\n",
       "      <th>3</th>\n",
       "      <td>C</td>\n",
       "      <td>52</td>\n",
       "      <td>65</td>\n",
       "      <td>45</td>\n",
       "      <td>162</td>\n",
       "      <td>45</td>\n",
       "      <td>65</td>\n",
       "      <td>54</td>\n",
       "      <td>54</td>\n",
       "      <td>NaN</td>\n",
       "    </tr>\n",
       "    <tr>\n",
       "      <th>4</th>\n",
       "      <td>D</td>\n",
       "      <td>52</td>\n",
       "      <td>53</td>\n",
       "      <td>88</td>\n",
       "      <td>193</td>\n",
       "      <td>52</td>\n",
       "      <td>88</td>\n",
       "      <td>64.333333</td>\n",
       "      <td>64.333333</td>\n",
       "      <td>NaN</td>\n",
       "    </tr>\n",
       "    <tr>\n",
       "      <th>5</th>\n",
       "      <td>E</td>\n",
       "      <td>66</td>\n",
       "      <td>88</td>\n",
       "      <td>64</td>\n",
       "      <td>218</td>\n",
       "      <td>64</td>\n",
       "      <td>88</td>\n",
       "      <td>72.666667</td>\n",
       "      <td>72.666667</td>\n",
       "      <td>NaN</td>\n",
       "    </tr>\n",
       "    <tr>\n",
       "      <th>6</th>\n",
       "      <td>F</td>\n",
       "      <td>75</td>\n",
       "      <td>23</td>\n",
       "      <td>12</td>\n",
       "      <td>110</td>\n",
       "      <td>12</td>\n",
       "      <td>75</td>\n",
       "      <td>36.666667</td>\n",
       "      <td>36.666667</td>\n",
       "      <td>NaN</td>\n",
       "    </tr>\n",
       "    <tr>\n",
       "      <th>7</th>\n",
       "      <td>NaN</td>\n",
       "      <td>NaN</td>\n",
       "      <td>NaN</td>\n",
       "      <td>NaN</td>\n",
       "      <td>NaN</td>\n",
       "      <td>NaN</td>\n",
       "      <td>NaN</td>\n",
       "      <td>NaN</td>\n",
       "      <td>NaN</td>\n",
       "      <td>NaN</td>\n",
       "    </tr>\n",
       "    <tr>\n",
       "      <th>8</th>\n",
       "      <td>NaN</td>\n",
       "      <td>NaN</td>\n",
       "      <td>NaN</td>\n",
       "      <td>NaN</td>\n",
       "      <td>NaN</td>\n",
       "      <td>NaN</td>\n",
       "      <td>NaN</td>\n",
       "      <td>NaN</td>\n",
       "      <td>NaN</td>\n",
       "      <td>NaN</td>\n",
       "    </tr>\n",
       "    <tr>\n",
       "      <th>9</th>\n",
       "      <td>NaN</td>\n",
       "      <td>NaN</td>\n",
       "      <td>NaN</td>\n",
       "      <td>NaN</td>\n",
       "      <td>NaN</td>\n",
       "      <td>NaN</td>\n",
       "      <td>NaN</td>\n",
       "      <td>NaN</td>\n",
       "      <td>NaN</td>\n",
       "      <td>NaN</td>\n",
       "    </tr>\n",
       "    <tr>\n",
       "      <th>10</th>\n",
       "      <td>NaN</td>\n",
       "      <td>NaN</td>\n",
       "      <td>NaN</td>\n",
       "      <td>NaN</td>\n",
       "      <td>NaN</td>\n",
       "      <td>NaN</td>\n",
       "      <td>NaN</td>\n",
       "      <td>NaN</td>\n",
       "      <td>NaN</td>\n",
       "      <td>NaN</td>\n",
       "    </tr>\n",
       "    <tr>\n",
       "      <th>11</th>\n",
       "      <td>NaN</td>\n",
       "      <td>NaN</td>\n",
       "      <td>NaN</td>\n",
       "      <td>NaN</td>\n",
       "      <td>NaN</td>\n",
       "      <td>NaN</td>\n",
       "      <td>NaN</td>\n",
       "      <td>NaN</td>\n",
       "      <td>NaN</td>\n",
       "      <td>NaN</td>\n",
       "    </tr>\n",
       "    <tr>\n",
       "      <th>12</th>\n",
       "      <td>NaN</td>\n",
       "      <td>NaN</td>\n",
       "      <td>NaN</td>\n",
       "      <td>NaN</td>\n",
       "      <td>NaN</td>\n",
       "      <td>NaN</td>\n",
       "      <td>NaN</td>\n",
       "      <td>NaN</td>\n",
       "      <td>NaN</td>\n",
       "      <td>NaN</td>\n",
       "    </tr>\n",
       "    <tr>\n",
       "      <th>13</th>\n",
       "      <td>NaN</td>\n",
       "      <td>NaN</td>\n",
       "      <td>NaN</td>\n",
       "      <td>NaN</td>\n",
       "      <td>NaN</td>\n",
       "      <td>NaN</td>\n",
       "      <td>NaN</td>\n",
       "      <td>NaN</td>\n",
       "      <td>NaN</td>\n",
       "      <td>NaN</td>\n",
       "    </tr>\n",
       "    <tr>\n",
       "      <th>14</th>\n",
       "      <td>NaN</td>\n",
       "      <td>NaN</td>\n",
       "      <td>NaN</td>\n",
       "      <td>NaN</td>\n",
       "      <td>NaN</td>\n",
       "      <td>NaN</td>\n",
       "      <td>NaN</td>\n",
       "      <td>NaN</td>\n",
       "      <td>NaN</td>\n",
       "      <td>NaN</td>\n",
       "    </tr>\n",
       "    <tr>\n",
       "      <th>15</th>\n",
       "      <td>NaN</td>\n",
       "      <td>NaN</td>\n",
       "      <td>NaN</td>\n",
       "      <td>NaN</td>\n",
       "      <td>NaN</td>\n",
       "      <td>NaN</td>\n",
       "      <td>NaN</td>\n",
       "      <td>NaN</td>\n",
       "      <td>NaN</td>\n",
       "      <td>NaN</td>\n",
       "    </tr>\n",
       "    <tr>\n",
       "      <th>16</th>\n",
       "      <td>NaN</td>\n",
       "      <td>NaN</td>\n",
       "      <td>NaN</td>\n",
       "      <td></td>\n",
       "      <td>NaN</td>\n",
       "      <td>NaN</td>\n",
       "      <td></td>\n",
       "      <td>NaN</td>\n",
       "      <td>NaN</td>\n",
       "      <td>NaN</td>\n",
       "    </tr>\n",
       "  </tbody>\n",
       "</table>\n",
       "</div>"
      ],
      "text/plain": [
       "    Marksheet Unnamed: 1 Unnamed: 2 Unnamed: 3 Unnamed: 4 Unnamed: 5  \\\n",
       "0        Name       Sub1       Sub2       Sub3      Total        Min   \n",
       "1           A         32         19         34         85         19   \n",
       "2           B         43         75         66        184         43   \n",
       "3           C         52         65         45        162         45   \n",
       "4           D         52         53         88        193         52   \n",
       "5           E         66         88         64        218         64   \n",
       "6           F         75         23         12        110         12   \n",
       "7         NaN        NaN        NaN        NaN        NaN        NaN   \n",
       "8         NaN        NaN        NaN        NaN        NaN        NaN   \n",
       "9         NaN        NaN        NaN        NaN        NaN        NaN   \n",
       "10        NaN        NaN        NaN        NaN        NaN        NaN   \n",
       "11        NaN        NaN        NaN        NaN        NaN        NaN   \n",
       "12        NaN        NaN        NaN        NaN        NaN        NaN   \n",
       "13        NaN        NaN        NaN        NaN        NaN        NaN   \n",
       "14        NaN        NaN        NaN        NaN        NaN        NaN   \n",
       "15        NaN        NaN        NaN        NaN        NaN        NaN   \n",
       "16        NaN        NaN        NaN                   NaN        NaN   \n",
       "\n",
       "   Unnamed: 6 Unnamed: 7  Unnamed: 8 Unnamed: 9  \n",
       "0         Max        Avg  Percentage     Result  \n",
       "1          34  28.333333   28.333333             \n",
       "2          75  61.333333   61.333333        NaN  \n",
       "3          65         54          54        NaN  \n",
       "4          88  64.333333   64.333333        NaN  \n",
       "5          88  72.666667   72.666667        NaN  \n",
       "6          75  36.666667   36.666667        NaN  \n",
       "7         NaN        NaN         NaN        NaN  \n",
       "8         NaN        NaN         NaN        NaN  \n",
       "9         NaN        NaN         NaN        NaN  \n",
       "10        NaN        NaN         NaN        NaN  \n",
       "11        NaN        NaN         NaN        NaN  \n",
       "12        NaN        NaN         NaN        NaN  \n",
       "13        NaN        NaN         NaN        NaN  \n",
       "14        NaN        NaN         NaN        NaN  \n",
       "15        NaN        NaN         NaN        NaN  \n",
       "16                   NaN         NaN        NaN  "
      ]
     },
     "execution_count": 62,
     "metadata": {},
     "output_type": "execute_result"
    }
   ],
   "source": [
    "df1"
   ]
  },
  {
   "cell_type": "code",
   "execution_count": 72,
   "id": "840650e3",
   "metadata": {},
   "outputs": [
    {
     "data": {
      "text/plain": [
       "[<matplotlib.lines.Line2D at 0x1f10cfd70a0>,\n",
       " <matplotlib.lines.Line2D at 0x1f10cfd70d0>]"
      ]
     },
     "execution_count": 72,
     "metadata": {},
     "output_type": "execute_result"
    },
    {
     "data": {
      "image/png": "[encoded data removed]",
      "text/plain": [
       "<Figure size 432x288 with 1 Axes>"
      ]
     },
     "metadata": {
      "needs_background": "light"
     },
     "output_type": "display_data"
    }
   ],
   "source": [
    "#matplotlib-----> data viz.\n",
    "import matplotlib.pyplot as plt\n",
    "%matplotlib inline\n",
    "x=[112,22,39,400]\n",
    "x1=[12,34,56,100]\n",
    "y=[1,2,3,4]\n",
    "plt.xlabel('Marks')\n",
    "plt.ylabel(\"No. of students\")\n",
    "plt.title(\"Students Marks Data\")\n",
    "\n",
    "plt.plot(y,x,x1)\n"
   ]
  },
  {
   "cell_type": "code",
   "execution_count": 76,
   "id": "dc8f008c",
   "metadata": {},
   "outputs": [
    {
     "data": {
      "text/plain": [
       "<BarContainer object of 4 artists>"
      ]
     },
     "execution_count": 76,
     "metadata": {},
     "output_type": "execute_result"
    },
    {
     "data": {
      "image/png": "[encoded data removed]",
      "text/plain": [
       "<Figure size 432x288 with 1 Axes>"
      ]
     },
     "metadata": {
      "needs_background": "light"
     },
     "output_type": "display_data"
    }
   ],
   "source": [
    "#bar char\n",
    "# plt.plot(y,x)\n",
    "plt.bar(y,x)\n",
    "# plt.bar(y,x1)"
   ]
  },
  {
   "cell_type": "code",
   "execution_count": null,
   "id": "25af528b",
   "metadata": {},
   "outputs": [],
   "source": [
    "#wap and make bar + line chart for city and population \n",
    "# and make data with the help of numpy."
   ]
  },
  {
   "cell_type": "code",
   "execution_count": 78,
   "id": "66e5c3cc",
   "metadata": {},
   "outputs": [
    {
     "data": {
      "text/plain": [
       "[<matplotlib.lines.Line2D at 0x1f10d298a90>]"
      ]
     },
     "execution_count": 78,
     "metadata": {},
     "output_type": "execute_result"
    },
    {
     "data": {
      "image/png": "[encoded data removed]",
      "text/plain": [
       "<Figure size 432x288 with 1 Axes>"
      ]
     },
     "metadata": {
      "needs_background": "light"
     },
     "output_type": "display_data"
    }
   ],
   "source": [
    "pop = np.array([200,345,567,890])\n",
    "city = ['Noida','Delhi','UP','Goa']\n",
    "plt.xlabel(\"City\")\n",
    "plt.ylabel('Population')\n",
    "plt.title('Population Estimation')\n",
    "plt.plot(city,pop)"
   ]
  },
  {
   "cell_type": "code",
   "execution_count": 87,
   "id": "843f8cfb",
   "metadata": {},
   "outputs": [
    {
     "data": {
      "text/plain": [
       "<BarContainer object of 4 artists>"
      ]
     },
     "execution_count": 87,
     "metadata": {},
     "output_type": "execute_result"
    },
    {
     "data": {
      "image/png": "[encoded data removed]",
      "text/plain": [
       "<Figure size 432x288 with 1 Axes>"
      ]
     },
     "metadata": {
      "needs_background": "light"
     },
     "output_type": "display_data"
    }
   ],
   "source": [
    "plt.bar(city,pop,color='r',edgecolor='b',width=0.8)"
   ]
  },
  {
   "cell_type": "code",
   "execution_count": null,
   "id": "b89b9192",
   "metadata": {},
   "outputs": [],
   "source": []
  }
 ],
 "metadata": {
  "kernelspec": {
   "display_name": "Python 3 (ipykernel)",
   "language": "python",
   "name": "python3"
  },
  "language_info": {
   "codemirror_mode": {
    "name": "ipython",
    "version": 3
   },
   "file_extension": ".py",
   "mimetype": "text/x-python",
   "name": "python",
   "nbconvert_exporter": "python",
   "pygments_lexer": "ipython3",
   "version": "3.9.7"
  }
 },
 "nbformat": 4,
 "nbformat_minor": 5
}
